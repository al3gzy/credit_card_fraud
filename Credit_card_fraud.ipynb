{
  "nbformat": 4,
  "nbformat_minor": 0,
  "metadata": {
    "colab": {
      "provenance": []
    },
    "kernelspec": {
      "name": "python3",
      "display_name": "Python 3"
    },
    "language_info": {
      "name": "python"
    }
  },
  "cells": [
    {
      "cell_type": "code",
      "execution_count": null,
      "metadata": {
        "id": "id2OEoPH7i8u"
      },
      "outputs": [],
      "source": [
        "import numpy as np\n",
        "import pandas as pd\n",
        "from sklearn.model_selection import train_test_split\n",
        "from sklearn.linear_model import LogisticRegression\n",
        "from sklearn.metrics import accuracy_score"
      ]
    },
    {
      "cell_type": "code",
      "source": [
        "credit_card_data = pd.read_csv(\"/content/creditcard.csv\", error_bad_lines=False);"
      ],
      "metadata": {
        "id": "dvj_OU_W86Gi"
      },
      "execution_count": null,
      "outputs": []
    },
    {
      "cell_type": "code",
      "source": [
        "#kako izgledaju podaci\n",
        "credit_card_data.head().append(credit_card_data.tail())"
      ],
      "metadata": {
        "colab": {
          "base_uri": "https://localhost:8080/",
          "height": 452
        },
        "id": "shNtEgfx8-9F",
        "outputId": "1e07249c-9d27-4a86-e6fa-061abcc94193"
      },
      "execution_count": null,
      "outputs": [
        {
          "output_type": "execute_result",
          "data": {
            "text/plain": [
              "            Time         V1         V2        V3        V4        V5  \\\n",
              "0            0.0  -1.359807  -0.072781  2.536347  1.378155 -0.338321   \n",
              "1            0.0   1.191857   0.266151  0.166480  0.448154  0.060018   \n",
              "2            1.0  -1.358354  -1.340163  1.773209  0.379780 -0.503198   \n",
              "3            1.0  -0.966272  -0.185226  1.792993 -0.863291 -0.010309   \n",
              "4            2.0  -1.158233   0.877737  1.548718  0.403034 -0.407193   \n",
              "282799  172786.0 -11.881118  10.071785 -9.834783 -2.066656 -5.364473   \n",
              "282800  172787.0  -0.732789  -0.055080  2.035030 -0.738589  0.868229   \n",
              "282801  172788.0   1.919565  -0.301254 -3.249640 -0.557828  2.630515   \n",
              "282802  172788.0  -0.240440   0.530483  0.702510  0.689799 -0.377961   \n",
              "282803  172792.0  -0.533413  -0.189733  0.703337 -0.506271 -0.012546   \n",
              "\n",
              "              V6        V7        V8        V9  ...       V21       V22  \\\n",
              "0       0.462388  0.239599  0.098698  0.363787  ... -0.018307  0.277838   \n",
              "1      -0.082361 -0.078803  0.085102 -0.255425  ... -0.225775 -0.638672   \n",
              "2       1.800499  0.791461  0.247676 -1.514654  ...  0.247998  0.771679   \n",
              "3       1.247203  0.237609  0.377436 -1.387024  ... -0.108300  0.005274   \n",
              "4       0.095921  0.592941 -0.270533  0.817739  ... -0.009431  0.798278   \n",
              "282799 -2.606837 -4.918215  7.305334  1.914428  ...  0.213454  0.111864   \n",
              "282800  1.058415  0.024330  0.294869  0.584800  ...  0.214205  0.924384   \n",
              "282801  3.031260 -0.296827  0.708417  0.432454  ...  0.232045  0.578229   \n",
              "282802  0.623708 -0.686180  0.679145  0.392087  ...  0.265245  0.800049   \n",
              "282803 -0.649617  1.577006 -0.414650  0.486180  ...  0.261057  0.643078   \n",
              "\n",
              "             V23       V24       V25       V26       V27       V28  Amount  \\\n",
              "0      -0.110474  0.066928  0.128539 -0.189115  0.133558 -0.021053  149.62   \n",
              "1       0.101288 -0.339846  0.167170  0.125895 -0.008983  0.014724    2.69   \n",
              "2       0.909412 -0.689281 -0.327642 -0.139097 -0.055353 -0.059752  378.66   \n",
              "3      -0.190321 -1.175575  0.647376 -0.221929  0.062723  0.061458  123.50   \n",
              "4      -0.137458  0.141267 -0.206010  0.502292  0.219422  0.215153   69.99   \n",
              "282799  1.014480 -0.509348  1.436807  0.250034  0.943651  0.823731    0.77   \n",
              "282800  0.012463 -1.016226 -0.606624 -0.395255  0.068472 -0.053527   24.79   \n",
              "282801 -0.037501  0.640134  0.265745 -0.087371  0.004455 -0.026561   67.88   \n",
              "282802 -0.163298  0.123205 -0.569159  0.546668  0.108821  0.104533   10.00   \n",
              "282803  0.376777  0.008797 -0.473649 -0.818267 -0.002415  0.013649  217.00   \n",
              "\n",
              "        Class  \n",
              "0         0.0  \n",
              "1         0.0  \n",
              "2         0.0  \n",
              "3         0.0  \n",
              "4         0.0  \n",
              "282799    0.0  \n",
              "282800    0.0  \n",
              "282801    0.0  \n",
              "282802    0.0  \n",
              "282803    0.0  \n",
              "\n",
              "[10 rows x 31 columns]"
            ],
            "text/html": [
              "\n",
              "  <div id=\"df-6fe985c1-41dc-411b-bcd0-da9b14170bdf\">\n",
              "    <div class=\"colab-df-container\">\n",
              "      <div>\n",
              "<style scoped>\n",
              "    .dataframe tbody tr th:only-of-type {\n",
              "        vertical-align: middle;\n",
              "    }\n",
              "\n",
              "    .dataframe tbody tr th {\n",
              "        vertical-align: top;\n",
              "    }\n",
              "\n",
              "    .dataframe thead th {\n",
              "        text-align: right;\n",
              "    }\n",
              "</style>\n",
              "<table border=\"1\" class=\"dataframe\">\n",
              "  <thead>\n",
              "    <tr style=\"text-align: right;\">\n",
              "      <th></th>\n",
              "      <th>Time</th>\n",
              "      <th>V1</th>\n",
              "      <th>V2</th>\n",
              "      <th>V3</th>\n",
              "      <th>V4</th>\n",
              "      <th>V5</th>\n",
              "      <th>V6</th>\n",
              "      <th>V7</th>\n",
              "      <th>V8</th>\n",
              "      <th>V9</th>\n",
              "      <th>...</th>\n",
              "      <th>V21</th>\n",
              "      <th>V22</th>\n",
              "      <th>V23</th>\n",
              "      <th>V24</th>\n",
              "      <th>V25</th>\n",
              "      <th>V26</th>\n",
              "      <th>V27</th>\n",
              "      <th>V28</th>\n",
              "      <th>Amount</th>\n",
              "      <th>Class</th>\n",
              "    </tr>\n",
              "  </thead>\n",
              "  <tbody>\n",
              "    <tr>\n",
              "      <th>0</th>\n",
              "      <td>0.0</td>\n",
              "      <td>-1.359807</td>\n",
              "      <td>-0.072781</td>\n",
              "      <td>2.536347</td>\n",
              "      <td>1.378155</td>\n",
              "      <td>-0.338321</td>\n",
              "      <td>0.462388</td>\n",
              "      <td>0.239599</td>\n",
              "      <td>0.098698</td>\n",
              "      <td>0.363787</td>\n",
              "      <td>...</td>\n",
              "      <td>-0.018307</td>\n",
              "      <td>0.277838</td>\n",
              "      <td>-0.110474</td>\n",
              "      <td>0.066928</td>\n",
              "      <td>0.128539</td>\n",
              "      <td>-0.189115</td>\n",
              "      <td>0.133558</td>\n",
              "      <td>-0.021053</td>\n",
              "      <td>149.62</td>\n",
              "      <td>0.0</td>\n",
              "    </tr>\n",
              "    <tr>\n",
              "      <th>1</th>\n",
              "      <td>0.0</td>\n",
              "      <td>1.191857</td>\n",
              "      <td>0.266151</td>\n",
              "      <td>0.166480</td>\n",
              "      <td>0.448154</td>\n",
              "      <td>0.060018</td>\n",
              "      <td>-0.082361</td>\n",
              "      <td>-0.078803</td>\n",
              "      <td>0.085102</td>\n",
              "      <td>-0.255425</td>\n",
              "      <td>...</td>\n",
              "      <td>-0.225775</td>\n",
              "      <td>-0.638672</td>\n",
              "      <td>0.101288</td>\n",
              "      <td>-0.339846</td>\n",
              "      <td>0.167170</td>\n",
              "      <td>0.125895</td>\n",
              "      <td>-0.008983</td>\n",
              "      <td>0.014724</td>\n",
              "      <td>2.69</td>\n",
              "      <td>0.0</td>\n",
              "    </tr>\n",
              "    <tr>\n",
              "      <th>2</th>\n",
              "      <td>1.0</td>\n",
              "      <td>-1.358354</td>\n",
              "      <td>-1.340163</td>\n",
              "      <td>1.773209</td>\n",
              "      <td>0.379780</td>\n",
              "      <td>-0.503198</td>\n",
              "      <td>1.800499</td>\n",
              "      <td>0.791461</td>\n",
              "      <td>0.247676</td>\n",
              "      <td>-1.514654</td>\n",
              "      <td>...</td>\n",
              "      <td>0.247998</td>\n",
              "      <td>0.771679</td>\n",
              "      <td>0.909412</td>\n",
              "      <td>-0.689281</td>\n",
              "      <td>-0.327642</td>\n",
              "      <td>-0.139097</td>\n",
              "      <td>-0.055353</td>\n",
              "      <td>-0.059752</td>\n",
              "      <td>378.66</td>\n",
              "      <td>0.0</td>\n",
              "    </tr>\n",
              "    <tr>\n",
              "      <th>3</th>\n",
              "      <td>1.0</td>\n",
              "      <td>-0.966272</td>\n",
              "      <td>-0.185226</td>\n",
              "      <td>1.792993</td>\n",
              "      <td>-0.863291</td>\n",
              "      <td>-0.010309</td>\n",
              "      <td>1.247203</td>\n",
              "      <td>0.237609</td>\n",
              "      <td>0.377436</td>\n",
              "      <td>-1.387024</td>\n",
              "      <td>...</td>\n",
              "      <td>-0.108300</td>\n",
              "      <td>0.005274</td>\n",
              "      <td>-0.190321</td>\n",
              "      <td>-1.175575</td>\n",
              "      <td>0.647376</td>\n",
              "      <td>-0.221929</td>\n",
              "      <td>0.062723</td>\n",
              "      <td>0.061458</td>\n",
              "      <td>123.50</td>\n",
              "      <td>0.0</td>\n",
              "    </tr>\n",
              "    <tr>\n",
              "      <th>4</th>\n",
              "      <td>2.0</td>\n",
              "      <td>-1.158233</td>\n",
              "      <td>0.877737</td>\n",
              "      <td>1.548718</td>\n",
              "      <td>0.403034</td>\n",
              "      <td>-0.407193</td>\n",
              "      <td>0.095921</td>\n",
              "      <td>0.592941</td>\n",
              "      <td>-0.270533</td>\n",
              "      <td>0.817739</td>\n",
              "      <td>...</td>\n",
              "      <td>-0.009431</td>\n",
              "      <td>0.798278</td>\n",
              "      <td>-0.137458</td>\n",
              "      <td>0.141267</td>\n",
              "      <td>-0.206010</td>\n",
              "      <td>0.502292</td>\n",
              "      <td>0.219422</td>\n",
              "      <td>0.215153</td>\n",
              "      <td>69.99</td>\n",
              "      <td>0.0</td>\n",
              "    </tr>\n",
              "    <tr>\n",
              "      <th>282799</th>\n",
              "      <td>172786.0</td>\n",
              "      <td>-11.881118</td>\n",
              "      <td>10.071785</td>\n",
              "      <td>-9.834783</td>\n",
              "      <td>-2.066656</td>\n",
              "      <td>-5.364473</td>\n",
              "      <td>-2.606837</td>\n",
              "      <td>-4.918215</td>\n",
              "      <td>7.305334</td>\n",
              "      <td>1.914428</td>\n",
              "      <td>...</td>\n",
              "      <td>0.213454</td>\n",
              "      <td>0.111864</td>\n",
              "      <td>1.014480</td>\n",
              "      <td>-0.509348</td>\n",
              "      <td>1.436807</td>\n",
              "      <td>0.250034</td>\n",
              "      <td>0.943651</td>\n",
              "      <td>0.823731</td>\n",
              "      <td>0.77</td>\n",
              "      <td>0.0</td>\n",
              "    </tr>\n",
              "    <tr>\n",
              "      <th>282800</th>\n",
              "      <td>172787.0</td>\n",
              "      <td>-0.732789</td>\n",
              "      <td>-0.055080</td>\n",
              "      <td>2.035030</td>\n",
              "      <td>-0.738589</td>\n",
              "      <td>0.868229</td>\n",
              "      <td>1.058415</td>\n",
              "      <td>0.024330</td>\n",
              "      <td>0.294869</td>\n",
              "      <td>0.584800</td>\n",
              "      <td>...</td>\n",
              "      <td>0.214205</td>\n",
              "      <td>0.924384</td>\n",
              "      <td>0.012463</td>\n",
              "      <td>-1.016226</td>\n",
              "      <td>-0.606624</td>\n",
              "      <td>-0.395255</td>\n",
              "      <td>0.068472</td>\n",
              "      <td>-0.053527</td>\n",
              "      <td>24.79</td>\n",
              "      <td>0.0</td>\n",
              "    </tr>\n",
              "    <tr>\n",
              "      <th>282801</th>\n",
              "      <td>172788.0</td>\n",
              "      <td>1.919565</td>\n",
              "      <td>-0.301254</td>\n",
              "      <td>-3.249640</td>\n",
              "      <td>-0.557828</td>\n",
              "      <td>2.630515</td>\n",
              "      <td>3.031260</td>\n",
              "      <td>-0.296827</td>\n",
              "      <td>0.708417</td>\n",
              "      <td>0.432454</td>\n",
              "      <td>...</td>\n",
              "      <td>0.232045</td>\n",
              "      <td>0.578229</td>\n",
              "      <td>-0.037501</td>\n",
              "      <td>0.640134</td>\n",
              "      <td>0.265745</td>\n",
              "      <td>-0.087371</td>\n",
              "      <td>0.004455</td>\n",
              "      <td>-0.026561</td>\n",
              "      <td>67.88</td>\n",
              "      <td>0.0</td>\n",
              "    </tr>\n",
              "    <tr>\n",
              "      <th>282802</th>\n",
              "      <td>172788.0</td>\n",
              "      <td>-0.240440</td>\n",
              "      <td>0.530483</td>\n",
              "      <td>0.702510</td>\n",
              "      <td>0.689799</td>\n",
              "      <td>-0.377961</td>\n",
              "      <td>0.623708</td>\n",
              "      <td>-0.686180</td>\n",
              "      <td>0.679145</td>\n",
              "      <td>0.392087</td>\n",
              "      <td>...</td>\n",
              "      <td>0.265245</td>\n",
              "      <td>0.800049</td>\n",
              "      <td>-0.163298</td>\n",
              "      <td>0.123205</td>\n",
              "      <td>-0.569159</td>\n",
              "      <td>0.546668</td>\n",
              "      <td>0.108821</td>\n",
              "      <td>0.104533</td>\n",
              "      <td>10.00</td>\n",
              "      <td>0.0</td>\n",
              "    </tr>\n",
              "    <tr>\n",
              "      <th>282803</th>\n",
              "      <td>172792.0</td>\n",
              "      <td>-0.533413</td>\n",
              "      <td>-0.189733</td>\n",
              "      <td>0.703337</td>\n",
              "      <td>-0.506271</td>\n",
              "      <td>-0.012546</td>\n",
              "      <td>-0.649617</td>\n",
              "      <td>1.577006</td>\n",
              "      <td>-0.414650</td>\n",
              "      <td>0.486180</td>\n",
              "      <td>...</td>\n",
              "      <td>0.261057</td>\n",
              "      <td>0.643078</td>\n",
              "      <td>0.376777</td>\n",
              "      <td>0.008797</td>\n",
              "      <td>-0.473649</td>\n",
              "      <td>-0.818267</td>\n",
              "      <td>-0.002415</td>\n",
              "      <td>0.013649</td>\n",
              "      <td>217.00</td>\n",
              "      <td>0.0</td>\n",
              "    </tr>\n",
              "  </tbody>\n",
              "</table>\n",
              "<p>10 rows × 31 columns</p>\n",
              "</div>\n",
              "      <button class=\"colab-df-convert\" onclick=\"convertToInteractive('df-6fe985c1-41dc-411b-bcd0-da9b14170bdf')\"\n",
              "              title=\"Convert this dataframe to an interactive table.\"\n",
              "              style=\"display:none;\">\n",
              "        \n",
              "  <svg xmlns=\"http://www.w3.org/2000/svg\" height=\"24px\"viewBox=\"0 0 24 24\"\n",
              "       width=\"24px\">\n",
              "    <path d=\"M0 0h24v24H0V0z\" fill=\"none\"/>\n",
              "    <path d=\"M18.56 5.44l.94 2.06.94-2.06 2.06-.94-2.06-.94-.94-2.06-.94 2.06-2.06.94zm-11 1L8.5 8.5l.94-2.06 2.06-.94-2.06-.94L8.5 2.5l-.94 2.06-2.06.94zm10 10l.94 2.06.94-2.06 2.06-.94-2.06-.94-.94-2.06-.94 2.06-2.06.94z\"/><path d=\"M17.41 7.96l-1.37-1.37c-.4-.4-.92-.59-1.43-.59-.52 0-1.04.2-1.43.59L10.3 9.45l-7.72 7.72c-.78.78-.78 2.05 0 2.83L4 21.41c.39.39.9.59 1.41.59.51 0 1.02-.2 1.41-.59l7.78-7.78 2.81-2.81c.8-.78.8-2.07 0-2.86zM5.41 20L4 18.59l7.72-7.72 1.47 1.35L5.41 20z\"/>\n",
              "  </svg>\n",
              "      </button>\n",
              "      \n",
              "  <style>\n",
              "    .colab-df-container {\n",
              "      display:flex;\n",
              "      flex-wrap:wrap;\n",
              "      gap: 12px;\n",
              "    }\n",
              "\n",
              "    .colab-df-convert {\n",
              "      background-color: #E8F0FE;\n",
              "      border: none;\n",
              "      border-radius: 50%;\n",
              "      cursor: pointer;\n",
              "      display: none;\n",
              "      fill: #1967D2;\n",
              "      height: 32px;\n",
              "      padding: 0 0 0 0;\n",
              "      width: 32px;\n",
              "    }\n",
              "\n",
              "    .colab-df-convert:hover {\n",
              "      background-color: #E2EBFA;\n",
              "      box-shadow: 0px 1px 2px rgba(60, 64, 67, 0.3), 0px 1px 3px 1px rgba(60, 64, 67, 0.15);\n",
              "      fill: #174EA6;\n",
              "    }\n",
              "\n",
              "    [theme=dark] .colab-df-convert {\n",
              "      background-color: #3B4455;\n",
              "      fill: #D2E3FC;\n",
              "    }\n",
              "\n",
              "    [theme=dark] .colab-df-convert:hover {\n",
              "      background-color: #434B5C;\n",
              "      box-shadow: 0px 1px 3px 1px rgba(0, 0, 0, 0.15);\n",
              "      filter: drop-shadow(0px 1px 2px rgba(0, 0, 0, 0.3));\n",
              "      fill: #FFFFFF;\n",
              "    }\n",
              "  </style>\n",
              "\n",
              "      <script>\n",
              "        const buttonEl =\n",
              "          document.querySelector('#df-6fe985c1-41dc-411b-bcd0-da9b14170bdf button.colab-df-convert');\n",
              "        buttonEl.style.display =\n",
              "          google.colab.kernel.accessAllowed ? 'block' : 'none';\n",
              "\n",
              "        async function convertToInteractive(key) {\n",
              "          const element = document.querySelector('#df-6fe985c1-41dc-411b-bcd0-da9b14170bdf');\n",
              "          const dataTable =\n",
              "            await google.colab.kernel.invokeFunction('convertToInteractive',\n",
              "                                                     [key], {});\n",
              "          if (!dataTable) return;\n",
              "\n",
              "          const docLinkHtml = 'Like what you see? Visit the ' +\n",
              "            '<a target=\"_blank\" href=https://colab.research.google.com/notebooks/data_table.ipynb>data table notebook</a>'\n",
              "            + ' to learn more about interactive tables.';\n",
              "          element.innerHTML = '';\n",
              "          dataTable['output_type'] = 'display_data';\n",
              "          await google.colab.output.renderOutput(dataTable, element);\n",
              "          const docLink = document.createElement('div');\n",
              "          docLink.innerHTML = docLinkHtml;\n",
              "          element.appendChild(docLink);\n",
              "        }\n",
              "      </script>\n",
              "    </div>\n",
              "  </div>\n",
              "  "
            ]
          },
          "metadata": {},
          "execution_count": 105
        }
      ]
    },
    {
      "cell_type": "code",
      "source": [
        "#informacije o podacima\n",
        "credit_card_data.info()"
      ],
      "metadata": {
        "colab": {
          "base_uri": "https://localhost:8080/"
        },
        "id": "HHQcAqNm91gb",
        "outputId": "457566f1-79cd-4914-efc6-1456452a4b32"
      },
      "execution_count": null,
      "outputs": [
        {
          "output_type": "stream",
          "name": "stdout",
          "text": [
            "<class 'pandas.core.frame.DataFrame'>\n",
            "RangeIndex: 282804 entries, 0 to 282803\n",
            "Data columns (total 31 columns):\n",
            " #   Column  Non-Null Count   Dtype  \n",
            "---  ------  --------------   -----  \n",
            " 0   Time    282804 non-null  float64\n",
            " 1   V1      282804 non-null  float64\n",
            " 2   V2      282804 non-null  float64\n",
            " 3   V3      282804 non-null  float64\n",
            " 4   V4      282804 non-null  float64\n",
            " 5   V5      282804 non-null  float64\n",
            " 6   V6      282804 non-null  float64\n",
            " 7   V7      282804 non-null  float64\n",
            " 8   V8      282804 non-null  float64\n",
            " 9   V9      282804 non-null  float64\n",
            " 10  V10     282804 non-null  float64\n",
            " 11  V11     282804 non-null  float64\n",
            " 12  V12     282804 non-null  float64\n",
            " 13  V13     282804 non-null  object \n",
            " 14  V14     282804 non-null  float64\n",
            " 15  V15     282804 non-null  float64\n",
            " 16  V16     282804 non-null  float64\n",
            " 17  V17     282804 non-null  float64\n",
            " 18  V18     282804 non-null  float64\n",
            " 19  V19     282804 non-null  float64\n",
            " 20  V20     282804 non-null  float64\n",
            " 21  V21     282804 non-null  float64\n",
            " 22  V22     282804 non-null  float64\n",
            " 23  V23     282804 non-null  float64\n",
            " 24  V24     282804 non-null  float64\n",
            " 25  V25     282804 non-null  float64\n",
            " 26  V26     282804 non-null  float64\n",
            " 27  V27     282803 non-null  float64\n",
            " 28  V28     282803 non-null  float64\n",
            " 29  Amount  282803 non-null  float64\n",
            " 30  Class   282803 non-null  float64\n",
            "dtypes: float64(30), object(1)\n",
            "memory usage: 66.9+ MB\n"
          ]
        }
      ]
    },
    {
      "cell_type": "code",
      "source": [
        "#proveravamo da li negde fale podaci\n",
        "credit_card_data.isnull().sum()"
      ],
      "metadata": {
        "colab": {
          "base_uri": "https://localhost:8080/"
        },
        "id": "cOhqWpka98oV",
        "outputId": "6573dd31-c7f5-4dfb-e977-0301bb3952a7"
      },
      "execution_count": null,
      "outputs": [
        {
          "output_type": "execute_result",
          "data": {
            "text/plain": [
              "Time      0\n",
              "V1        0\n",
              "V2        0\n",
              "V3        0\n",
              "V4        0\n",
              "V5        0\n",
              "V6        0\n",
              "V7        0\n",
              "V8        0\n",
              "V9        0\n",
              "V10       0\n",
              "V11       0\n",
              "V12       0\n",
              "V13       0\n",
              "V14       0\n",
              "V15       0\n",
              "V16       0\n",
              "V17       0\n",
              "V18       0\n",
              "V19       0\n",
              "V20       0\n",
              "V21       0\n",
              "V22       0\n",
              "V23       0\n",
              "V24       0\n",
              "V25       0\n",
              "V26       0\n",
              "V27       1\n",
              "V28       1\n",
              "Amount    1\n",
              "Class     1\n",
              "dtype: int64"
            ]
          },
          "metadata": {},
          "execution_count": 107
        }
      ]
    },
    {
      "cell_type": "code",
      "source": [
        "#šta treba da predvidimo?\n",
        "credit_card_data['Class'].value_counts()\n"
      ],
      "metadata": {
        "colab": {
          "base_uri": "https://localhost:8080/"
        },
        "id": "OKgwJH5c-H5q",
        "outputId": "79b80e60-be31-4cb8-9ab9-9dd4aa45e7a8"
      },
      "execution_count": null,
      "outputs": [
        {
          "output_type": "execute_result",
          "data": {
            "text/plain": [
              "0.0    282312\n",
              "1.0       491\n",
              "Name: Class, dtype: int64"
            ]
          },
          "metadata": {},
          "execution_count": 108
        }
      ]
    },
    {
      "cell_type": "code",
      "source": [
        "#deljenje podataka\n",
        "fraud = credit_card_data[credit_card_data.Class == 1]\n",
        "good = credit_card_data[credit_card_data.Class == 0]"
      ],
      "metadata": {
        "id": "3EpMmQPQ-P_W"
      },
      "execution_count": null,
      "outputs": []
    },
    {
      "cell_type": "code",
      "source": [
        "print(good.shape)\n",
        "print(fraud.shape)"
      ],
      "metadata": {
        "colab": {
          "base_uri": "https://localhost:8080/"
        },
        "id": "-I_0Oair-eXa",
        "outputId": "2d5ed3c7-2a37-460c-ec73-464e99a74f8a"
      },
      "execution_count": null,
      "outputs": [
        {
          "output_type": "stream",
          "name": "stdout",
          "text": [
            "(282312, 31)\n",
            "(491, 31)\n"
          ]
        }
      ]
    },
    {
      "cell_type": "code",
      "source": [
        "#deskriptivna statistika\n",
        "good.Amount.describe()"
      ],
      "metadata": {
        "colab": {
          "base_uri": "https://localhost:8080/"
        },
        "id": "lYQTvM_i-j3z",
        "outputId": "edad8b4c-7a02-4dfa-9706-e907487f1cbe"
      },
      "execution_count": null,
      "outputs": [
        {
          "output_type": "execute_result",
          "data": {
            "text/plain": [
              "count    282312.000000\n",
              "mean         88.455170\n",
              "std         250.701086\n",
              "min           0.000000\n",
              "25%           5.570000\n",
              "50%          22.000000\n",
              "75%          77.370000\n",
              "max       25691.160000\n",
              "Name: Amount, dtype: float64"
            ]
          },
          "metadata": {},
          "execution_count": 111
        }
      ]
    },
    {
      "cell_type": "code",
      "source": [
        "fraud.Amount.describe()"
      ],
      "metadata": {
        "colab": {
          "base_uri": "https://localhost:8080/"
        },
        "id": "mXQUWpmN-pD9",
        "outputId": "e54252e5-cbe8-4f5c-b139-0b99ee745e3c"
      },
      "execution_count": null,
      "outputs": [
        {
          "output_type": "execute_result",
          "data": {
            "text/plain": [
              "count     491.000000\n",
              "mean      121.971568\n",
              "std       256.889925\n",
              "min         0.000000\n",
              "25%         1.000000\n",
              "50%         9.210000\n",
              "75%       105.350000\n",
              "max      2125.870000\n",
              "Name: Amount, dtype: float64"
            ]
          },
          "metadata": {},
          "execution_count": 112
        }
      ]
    },
    {
      "cell_type": "code",
      "source": [
        "#kada ih uporedimo:\n",
        "credit_card_data.groupby('Class').mean()"
      ],
      "metadata": {
        "colab": {
          "base_uri": "https://localhost:8080/",
          "height": 235
        },
        "id": "FDO7aIua-snM",
        "outputId": "dc221764-4d01-47cd-8647-7d8c80d3944f"
      },
      "execution_count": null,
      "outputs": [
        {
          "output_type": "execute_result",
          "data": {
            "text/plain": [
              "               Time        V1        V2        V3        V4        V5  \\\n",
              "Class                                                                   \n",
              "0.0    95477.437665  0.009245 -0.008015  0.006158 -0.009941  0.005066   \n",
              "1.0    80902.173116 -4.776976  3.627576 -7.046873  4.546534 -3.155969   \n",
              "\n",
              "             V6        V7        V8        V9  ...       V20       V21  \\\n",
              "Class                                          ...                       \n",
              "0.0   -0.000942  0.011384 -0.001174 -0.003121  ... -0.000987 -0.000184   \n",
              "1.0   -1.400429 -5.581218  0.572611 -2.585895  ...  0.373953  0.715641   \n",
              "\n",
              "            V22       V23       V24       V25       V26       V27       V28  \\\n",
              "Class                                                                         \n",
              "0.0    0.002225  0.000017 -0.000026 -0.000629  0.000574 -0.000204 -0.000226   \n",
              "1.0    0.015976 -0.040742 -0.105167  0.041851  0.052858  0.170842  0.076133   \n",
              "\n",
              "           Amount  \n",
              "Class              \n",
              "0.0     88.455170  \n",
              "1.0    121.971568  \n",
              "\n",
              "[2 rows x 29 columns]"
            ],
            "text/html": [
              "\n",
              "  <div id=\"df-1e926569-2a14-45f5-aa02-bb5a79aea7e8\">\n",
              "    <div class=\"colab-df-container\">\n",
              "      <div>\n",
              "<style scoped>\n",
              "    .dataframe tbody tr th:only-of-type {\n",
              "        vertical-align: middle;\n",
              "    }\n",
              "\n",
              "    .dataframe tbody tr th {\n",
              "        vertical-align: top;\n",
              "    }\n",
              "\n",
              "    .dataframe thead th {\n",
              "        text-align: right;\n",
              "    }\n",
              "</style>\n",
              "<table border=\"1\" class=\"dataframe\">\n",
              "  <thead>\n",
              "    <tr style=\"text-align: right;\">\n",
              "      <th></th>\n",
              "      <th>Time</th>\n",
              "      <th>V1</th>\n",
              "      <th>V2</th>\n",
              "      <th>V3</th>\n",
              "      <th>V4</th>\n",
              "      <th>V5</th>\n",
              "      <th>V6</th>\n",
              "      <th>V7</th>\n",
              "      <th>V8</th>\n",
              "      <th>V9</th>\n",
              "      <th>...</th>\n",
              "      <th>V20</th>\n",
              "      <th>V21</th>\n",
              "      <th>V22</th>\n",
              "      <th>V23</th>\n",
              "      <th>V24</th>\n",
              "      <th>V25</th>\n",
              "      <th>V26</th>\n",
              "      <th>V27</th>\n",
              "      <th>V28</th>\n",
              "      <th>Amount</th>\n",
              "    </tr>\n",
              "    <tr>\n",
              "      <th>Class</th>\n",
              "      <th></th>\n",
              "      <th></th>\n",
              "      <th></th>\n",
              "      <th></th>\n",
              "      <th></th>\n",
              "      <th></th>\n",
              "      <th></th>\n",
              "      <th></th>\n",
              "      <th></th>\n",
              "      <th></th>\n",
              "      <th></th>\n",
              "      <th></th>\n",
              "      <th></th>\n",
              "      <th></th>\n",
              "      <th></th>\n",
              "      <th></th>\n",
              "      <th></th>\n",
              "      <th></th>\n",
              "      <th></th>\n",
              "      <th></th>\n",
              "      <th></th>\n",
              "    </tr>\n",
              "  </thead>\n",
              "  <tbody>\n",
              "    <tr>\n",
              "      <th>0.0</th>\n",
              "      <td>95477.437665</td>\n",
              "      <td>0.009245</td>\n",
              "      <td>-0.008015</td>\n",
              "      <td>0.006158</td>\n",
              "      <td>-0.009941</td>\n",
              "      <td>0.005066</td>\n",
              "      <td>-0.000942</td>\n",
              "      <td>0.011384</td>\n",
              "      <td>-0.001174</td>\n",
              "      <td>-0.003121</td>\n",
              "      <td>...</td>\n",
              "      <td>-0.000987</td>\n",
              "      <td>-0.000184</td>\n",
              "      <td>0.002225</td>\n",
              "      <td>0.000017</td>\n",
              "      <td>-0.000026</td>\n",
              "      <td>-0.000629</td>\n",
              "      <td>0.000574</td>\n",
              "      <td>-0.000204</td>\n",
              "      <td>-0.000226</td>\n",
              "      <td>88.455170</td>\n",
              "    </tr>\n",
              "    <tr>\n",
              "      <th>1.0</th>\n",
              "      <td>80902.173116</td>\n",
              "      <td>-4.776976</td>\n",
              "      <td>3.627576</td>\n",
              "      <td>-7.046873</td>\n",
              "      <td>4.546534</td>\n",
              "      <td>-3.155969</td>\n",
              "      <td>-1.400429</td>\n",
              "      <td>-5.581218</td>\n",
              "      <td>0.572611</td>\n",
              "      <td>-2.585895</td>\n",
              "      <td>...</td>\n",
              "      <td>0.373953</td>\n",
              "      <td>0.715641</td>\n",
              "      <td>0.015976</td>\n",
              "      <td>-0.040742</td>\n",
              "      <td>-0.105167</td>\n",
              "      <td>0.041851</td>\n",
              "      <td>0.052858</td>\n",
              "      <td>0.170842</td>\n",
              "      <td>0.076133</td>\n",
              "      <td>121.971568</td>\n",
              "    </tr>\n",
              "  </tbody>\n",
              "</table>\n",
              "<p>2 rows × 29 columns</p>\n",
              "</div>\n",
              "      <button class=\"colab-df-convert\" onclick=\"convertToInteractive('df-1e926569-2a14-45f5-aa02-bb5a79aea7e8')\"\n",
              "              title=\"Convert this dataframe to an interactive table.\"\n",
              "              style=\"display:none;\">\n",
              "        \n",
              "  <svg xmlns=\"http://www.w3.org/2000/svg\" height=\"24px\"viewBox=\"0 0 24 24\"\n",
              "       width=\"24px\">\n",
              "    <path d=\"M0 0h24v24H0V0z\" fill=\"none\"/>\n",
              "    <path d=\"M18.56 5.44l.94 2.06.94-2.06 2.06-.94-2.06-.94-.94-2.06-.94 2.06-2.06.94zm-11 1L8.5 8.5l.94-2.06 2.06-.94-2.06-.94L8.5 2.5l-.94 2.06-2.06.94zm10 10l.94 2.06.94-2.06 2.06-.94-2.06-.94-.94-2.06-.94 2.06-2.06.94z\"/><path d=\"M17.41 7.96l-1.37-1.37c-.4-.4-.92-.59-1.43-.59-.52 0-1.04.2-1.43.59L10.3 9.45l-7.72 7.72c-.78.78-.78 2.05 0 2.83L4 21.41c.39.39.9.59 1.41.59.51 0 1.02-.2 1.41-.59l7.78-7.78 2.81-2.81c.8-.78.8-2.07 0-2.86zM5.41 20L4 18.59l7.72-7.72 1.47 1.35L5.41 20z\"/>\n",
              "  </svg>\n",
              "      </button>\n",
              "      \n",
              "  <style>\n",
              "    .colab-df-container {\n",
              "      display:flex;\n",
              "      flex-wrap:wrap;\n",
              "      gap: 12px;\n",
              "    }\n",
              "\n",
              "    .colab-df-convert {\n",
              "      background-color: #E8F0FE;\n",
              "      border: none;\n",
              "      border-radius: 50%;\n",
              "      cursor: pointer;\n",
              "      display: none;\n",
              "      fill: #1967D2;\n",
              "      height: 32px;\n",
              "      padding: 0 0 0 0;\n",
              "      width: 32px;\n",
              "    }\n",
              "\n",
              "    .colab-df-convert:hover {\n",
              "      background-color: #E2EBFA;\n",
              "      box-shadow: 0px 1px 2px rgba(60, 64, 67, 0.3), 0px 1px 3px 1px rgba(60, 64, 67, 0.15);\n",
              "      fill: #174EA6;\n",
              "    }\n",
              "\n",
              "    [theme=dark] .colab-df-convert {\n",
              "      background-color: #3B4455;\n",
              "      fill: #D2E3FC;\n",
              "    }\n",
              "\n",
              "    [theme=dark] .colab-df-convert:hover {\n",
              "      background-color: #434B5C;\n",
              "      box-shadow: 0px 1px 3px 1px rgba(0, 0, 0, 0.15);\n",
              "      filter: drop-shadow(0px 1px 2px rgba(0, 0, 0, 0.3));\n",
              "      fill: #FFFFFF;\n",
              "    }\n",
              "  </style>\n",
              "\n",
              "      <script>\n",
              "        const buttonEl =\n",
              "          document.querySelector('#df-1e926569-2a14-45f5-aa02-bb5a79aea7e8 button.colab-df-convert');\n",
              "        buttonEl.style.display =\n",
              "          google.colab.kernel.accessAllowed ? 'block' : 'none';\n",
              "\n",
              "        async function convertToInteractive(key) {\n",
              "          const element = document.querySelector('#df-1e926569-2a14-45f5-aa02-bb5a79aea7e8');\n",
              "          const dataTable =\n",
              "            await google.colab.kernel.invokeFunction('convertToInteractive',\n",
              "                                                     [key], {});\n",
              "          if (!dataTable) return;\n",
              "\n",
              "          const docLinkHtml = 'Like what you see? Visit the ' +\n",
              "            '<a target=\"_blank\" href=https://colab.research.google.com/notebooks/data_table.ipynb>data table notebook</a>'\n",
              "            + ' to learn more about interactive tables.';\n",
              "          element.innerHTML = '';\n",
              "          dataTable['output_type'] = 'display_data';\n",
              "          await google.colab.output.renderOutput(dataTable, element);\n",
              "          const docLink = document.createElement('div');\n",
              "          docLink.innerHTML = docLinkHtml;\n",
              "          element.appendChild(docLink);\n",
              "        }\n",
              "      </script>\n",
              "    </div>\n",
              "  </div>\n",
              "  "
            ]
          },
          "metadata": {},
          "execution_count": 113
        }
      ]
    },
    {
      "cell_type": "code",
      "source": [
        "#napravićemo novi dataset koji posmatra sličnu distribuciju transakcija\n",
        "good_sample = good.sample(n=492)\n",
        "new_dataset = pd.concat([good_sample, fraud], axis=0)\n",
        "new_dataset.head()"
      ],
      "metadata": {
        "colab": {
          "base_uri": "https://localhost:8080/",
          "height": 297
        },
        "id": "e7h0Nsii-3aI",
        "outputId": "17025699-c65c-413f-d74e-2437b7736148"
      },
      "execution_count": null,
      "outputs": [
        {
          "output_type": "execute_result",
          "data": {
            "text/plain": [
              "            Time        V1        V2        V3        V4        V5        V6  \\\n",
              "133374   81226.0  1.102630 -0.142344  1.286535  1.235751 -0.986385  0.111451   \n",
              "62611    51226.0  1.184118 -0.102071  0.487790  0.161491 -0.753465 -1.051367   \n",
              "165776  118879.0 -1.475522  0.727327 -0.369869 -0.816682  0.765739  0.028844   \n",
              "200752  134476.0 -7.447801  6.642062 -3.896249 -2.385260 -0.737504 -0.988008   \n",
              "12104    25099.0  1.046067  0.375028  1.085677  2.838927 -0.167742  0.577102   \n",
              "\n",
              "              V7        V8        V9  ...       V21       V22       V23  \\\n",
              "133374 -0.704634  0.276215  0.734895  ... -0.016527  0.080907 -0.011962   \n",
              "62611  -0.039256 -0.165730  0.335693  ... -0.302509 -1.028982  0.167235   \n",
              "165776  0.359992  0.328679  0.217889  ...  0.149143  0.843341  0.117144   \n",
              "200752  0.565528  0.547143  5.776678  ... -1.343823 -1.237345  0.426095   \n",
              "12104  -0.339008  0.198427  0.857986  ... -0.137099  0.010949 -0.027548   \n",
              "\n",
              "             V24       V25       V26       V27       V28  Amount  Class  \n",
              "133374  0.321360  0.360801 -0.424649  0.063509  0.027303   12.99    0.0  \n",
              "62611   0.391354 -0.000178  0.471085 -0.071366  0.021714   50.00    0.0  \n",
              "165776  0.271799  0.044552  0.147777 -0.143533  0.132236    7.53    0.0  \n",
              "200752  0.482281  1.075657  0.093622  2.196404  0.867383    8.94    0.0  \n",
              "12104   0.181053  0.459154  0.038620 -0.008587  0.003019   11.37    0.0  \n",
              "\n",
              "[5 rows x 31 columns]"
            ],
            "text/html": [
              "\n",
              "  <div id=\"df-bdef993a-862d-456a-a355-3463fe71c58c\">\n",
              "    <div class=\"colab-df-container\">\n",
              "      <div>\n",
              "<style scoped>\n",
              "    .dataframe tbody tr th:only-of-type {\n",
              "        vertical-align: middle;\n",
              "    }\n",
              "\n",
              "    .dataframe tbody tr th {\n",
              "        vertical-align: top;\n",
              "    }\n",
              "\n",
              "    .dataframe thead th {\n",
              "        text-align: right;\n",
              "    }\n",
              "</style>\n",
              "<table border=\"1\" class=\"dataframe\">\n",
              "  <thead>\n",
              "    <tr style=\"text-align: right;\">\n",
              "      <th></th>\n",
              "      <th>Time</th>\n",
              "      <th>V1</th>\n",
              "      <th>V2</th>\n",
              "      <th>V3</th>\n",
              "      <th>V4</th>\n",
              "      <th>V5</th>\n",
              "      <th>V6</th>\n",
              "      <th>V7</th>\n",
              "      <th>V8</th>\n",
              "      <th>V9</th>\n",
              "      <th>...</th>\n",
              "      <th>V21</th>\n",
              "      <th>V22</th>\n",
              "      <th>V23</th>\n",
              "      <th>V24</th>\n",
              "      <th>V25</th>\n",
              "      <th>V26</th>\n",
              "      <th>V27</th>\n",
              "      <th>V28</th>\n",
              "      <th>Amount</th>\n",
              "      <th>Class</th>\n",
              "    </tr>\n",
              "  </thead>\n",
              "  <tbody>\n",
              "    <tr>\n",
              "      <th>133374</th>\n",
              "      <td>81226.0</td>\n",
              "      <td>1.102630</td>\n",
              "      <td>-0.142344</td>\n",
              "      <td>1.286535</td>\n",
              "      <td>1.235751</td>\n",
              "      <td>-0.986385</td>\n",
              "      <td>0.111451</td>\n",
              "      <td>-0.704634</td>\n",
              "      <td>0.276215</td>\n",
              "      <td>0.734895</td>\n",
              "      <td>...</td>\n",
              "      <td>-0.016527</td>\n",
              "      <td>0.080907</td>\n",
              "      <td>-0.011962</td>\n",
              "      <td>0.321360</td>\n",
              "      <td>0.360801</td>\n",
              "      <td>-0.424649</td>\n",
              "      <td>0.063509</td>\n",
              "      <td>0.027303</td>\n",
              "      <td>12.99</td>\n",
              "      <td>0.0</td>\n",
              "    </tr>\n",
              "    <tr>\n",
              "      <th>62611</th>\n",
              "      <td>51226.0</td>\n",
              "      <td>1.184118</td>\n",
              "      <td>-0.102071</td>\n",
              "      <td>0.487790</td>\n",
              "      <td>0.161491</td>\n",
              "      <td>-0.753465</td>\n",
              "      <td>-1.051367</td>\n",
              "      <td>-0.039256</td>\n",
              "      <td>-0.165730</td>\n",
              "      <td>0.335693</td>\n",
              "      <td>...</td>\n",
              "      <td>-0.302509</td>\n",
              "      <td>-1.028982</td>\n",
              "      <td>0.167235</td>\n",
              "      <td>0.391354</td>\n",
              "      <td>-0.000178</td>\n",
              "      <td>0.471085</td>\n",
              "      <td>-0.071366</td>\n",
              "      <td>0.021714</td>\n",
              "      <td>50.00</td>\n",
              "      <td>0.0</td>\n",
              "    </tr>\n",
              "    <tr>\n",
              "      <th>165776</th>\n",
              "      <td>118879.0</td>\n",
              "      <td>-1.475522</td>\n",
              "      <td>0.727327</td>\n",
              "      <td>-0.369869</td>\n",
              "      <td>-0.816682</td>\n",
              "      <td>0.765739</td>\n",
              "      <td>0.028844</td>\n",
              "      <td>0.359992</td>\n",
              "      <td>0.328679</td>\n",
              "      <td>0.217889</td>\n",
              "      <td>...</td>\n",
              "      <td>0.149143</td>\n",
              "      <td>0.843341</td>\n",
              "      <td>0.117144</td>\n",
              "      <td>0.271799</td>\n",
              "      <td>0.044552</td>\n",
              "      <td>0.147777</td>\n",
              "      <td>-0.143533</td>\n",
              "      <td>0.132236</td>\n",
              "      <td>7.53</td>\n",
              "      <td>0.0</td>\n",
              "    </tr>\n",
              "    <tr>\n",
              "      <th>200752</th>\n",
              "      <td>134476.0</td>\n",
              "      <td>-7.447801</td>\n",
              "      <td>6.642062</td>\n",
              "      <td>-3.896249</td>\n",
              "      <td>-2.385260</td>\n",
              "      <td>-0.737504</td>\n",
              "      <td>-0.988008</td>\n",
              "      <td>0.565528</td>\n",
              "      <td>0.547143</td>\n",
              "      <td>5.776678</td>\n",
              "      <td>...</td>\n",
              "      <td>-1.343823</td>\n",
              "      <td>-1.237345</td>\n",
              "      <td>0.426095</td>\n",
              "      <td>0.482281</td>\n",
              "      <td>1.075657</td>\n",
              "      <td>0.093622</td>\n",
              "      <td>2.196404</td>\n",
              "      <td>0.867383</td>\n",
              "      <td>8.94</td>\n",
              "      <td>0.0</td>\n",
              "    </tr>\n",
              "    <tr>\n",
              "      <th>12104</th>\n",
              "      <td>25099.0</td>\n",
              "      <td>1.046067</td>\n",
              "      <td>0.375028</td>\n",
              "      <td>1.085677</td>\n",
              "      <td>2.838927</td>\n",
              "      <td>-0.167742</td>\n",
              "      <td>0.577102</td>\n",
              "      <td>-0.339008</td>\n",
              "      <td>0.198427</td>\n",
              "      <td>0.857986</td>\n",
              "      <td>...</td>\n",
              "      <td>-0.137099</td>\n",
              "      <td>0.010949</td>\n",
              "      <td>-0.027548</td>\n",
              "      <td>0.181053</td>\n",
              "      <td>0.459154</td>\n",
              "      <td>0.038620</td>\n",
              "      <td>-0.008587</td>\n",
              "      <td>0.003019</td>\n",
              "      <td>11.37</td>\n",
              "      <td>0.0</td>\n",
              "    </tr>\n",
              "  </tbody>\n",
              "</table>\n",
              "<p>5 rows × 31 columns</p>\n",
              "</div>\n",
              "      <button class=\"colab-df-convert\" onclick=\"convertToInteractive('df-bdef993a-862d-456a-a355-3463fe71c58c')\"\n",
              "              title=\"Convert this dataframe to an interactive table.\"\n",
              "              style=\"display:none;\">\n",
              "        \n",
              "  <svg xmlns=\"http://www.w3.org/2000/svg\" height=\"24px\"viewBox=\"0 0 24 24\"\n",
              "       width=\"24px\">\n",
              "    <path d=\"M0 0h24v24H0V0z\" fill=\"none\"/>\n",
              "    <path d=\"M18.56 5.44l.94 2.06.94-2.06 2.06-.94-2.06-.94-.94-2.06-.94 2.06-2.06.94zm-11 1L8.5 8.5l.94-2.06 2.06-.94-2.06-.94L8.5 2.5l-.94 2.06-2.06.94zm10 10l.94 2.06.94-2.06 2.06-.94-2.06-.94-.94-2.06-.94 2.06-2.06.94z\"/><path d=\"M17.41 7.96l-1.37-1.37c-.4-.4-.92-.59-1.43-.59-.52 0-1.04.2-1.43.59L10.3 9.45l-7.72 7.72c-.78.78-.78 2.05 0 2.83L4 21.41c.39.39.9.59 1.41.59.51 0 1.02-.2 1.41-.59l7.78-7.78 2.81-2.81c.8-.78.8-2.07 0-2.86zM5.41 20L4 18.59l7.72-7.72 1.47 1.35L5.41 20z\"/>\n",
              "  </svg>\n",
              "      </button>\n",
              "      \n",
              "  <style>\n",
              "    .colab-df-container {\n",
              "      display:flex;\n",
              "      flex-wrap:wrap;\n",
              "      gap: 12px;\n",
              "    }\n",
              "\n",
              "    .colab-df-convert {\n",
              "      background-color: #E8F0FE;\n",
              "      border: none;\n",
              "      border-radius: 50%;\n",
              "      cursor: pointer;\n",
              "      display: none;\n",
              "      fill: #1967D2;\n",
              "      height: 32px;\n",
              "      padding: 0 0 0 0;\n",
              "      width: 32px;\n",
              "    }\n",
              "\n",
              "    .colab-df-convert:hover {\n",
              "      background-color: #E2EBFA;\n",
              "      box-shadow: 0px 1px 2px rgba(60, 64, 67, 0.3), 0px 1px 3px 1px rgba(60, 64, 67, 0.15);\n",
              "      fill: #174EA6;\n",
              "    }\n",
              "\n",
              "    [theme=dark] .colab-df-convert {\n",
              "      background-color: #3B4455;\n",
              "      fill: #D2E3FC;\n",
              "    }\n",
              "\n",
              "    [theme=dark] .colab-df-convert:hover {\n",
              "      background-color: #434B5C;\n",
              "      box-shadow: 0px 1px 3px 1px rgba(0, 0, 0, 0.15);\n",
              "      filter: drop-shadow(0px 1px 2px rgba(0, 0, 0, 0.3));\n",
              "      fill: #FFFFFF;\n",
              "    }\n",
              "  </style>\n",
              "\n",
              "      <script>\n",
              "        const buttonEl =\n",
              "          document.querySelector('#df-bdef993a-862d-456a-a355-3463fe71c58c button.colab-df-convert');\n",
              "        buttonEl.style.display =\n",
              "          google.colab.kernel.accessAllowed ? 'block' : 'none';\n",
              "\n",
              "        async function convertToInteractive(key) {\n",
              "          const element = document.querySelector('#df-bdef993a-862d-456a-a355-3463fe71c58c');\n",
              "          const dataTable =\n",
              "            await google.colab.kernel.invokeFunction('convertToInteractive',\n",
              "                                                     [key], {});\n",
              "          if (!dataTable) return;\n",
              "\n",
              "          const docLinkHtml = 'Like what you see? Visit the ' +\n",
              "            '<a target=\"_blank\" href=https://colab.research.google.com/notebooks/data_table.ipynb>data table notebook</a>'\n",
              "            + ' to learn more about interactive tables.';\n",
              "          element.innerHTML = '';\n",
              "          dataTable['output_type'] = 'display_data';\n",
              "          await google.colab.output.renderOutput(dataTable, element);\n",
              "          const docLink = document.createElement('div');\n",
              "          docLink.innerHTML = docLinkHtml;\n",
              "          element.appendChild(docLink);\n",
              "        }\n",
              "      </script>\n",
              "    </div>\n",
              "  </div>\n",
              "  "
            ]
          },
          "metadata": {},
          "execution_count": 114
        }
      ]
    },
    {
      "cell_type": "code",
      "source": [
        "new_dataset['Class'].value_counts()"
      ],
      "metadata": {
        "colab": {
          "base_uri": "https://localhost:8080/"
        },
        "id": "EK2XLlOI_Ua3",
        "outputId": "f3ea7f7c-c62a-42ae-ce8c-255773133e13"
      },
      "execution_count": null,
      "outputs": [
        {
          "output_type": "execute_result",
          "data": {
            "text/plain": [
              "0.0    492\n",
              "1.0    491\n",
              "Name: Class, dtype: int64"
            ]
          },
          "metadata": {},
          "execution_count": 115
        }
      ]
    },
    {
      "cell_type": "code",
      "source": [
        "new_dataset.groupby('Class').mean()\n",
        "x = new_dataset.drop(columns='Class', axis=1)\n",
        "y = new_dataset['Class']\n",
        "print(x)"
      ],
      "metadata": {
        "colab": {
          "base_uri": "https://localhost:8080/"
        },
        "id": "31Mqz1yf_kNZ",
        "outputId": "cfe85d07-3151-413a-b1d9-c72ac956e374"
      },
      "execution_count": null,
      "outputs": [
        {
          "output_type": "stream",
          "name": "stdout",
          "text": [
            "            Time        V1        V2        V3        V4        V5        V6  \\\n",
            "133374   81226.0  1.102630 -0.142344  1.286535  1.235751 -0.986385  0.111451   \n",
            "62611    51226.0  1.184118 -0.102071  0.487790  0.161491 -0.753465 -1.051367   \n",
            "165776  118879.0 -1.475522  0.727327 -0.369869 -0.816682  0.765739  0.028844   \n",
            "200752  134476.0 -7.447801  6.642062 -3.896249 -2.385260 -0.737504 -0.988008   \n",
            "12104    25099.0  1.046067  0.375028  1.085677  2.838927 -0.167742  0.577102   \n",
            "...          ...       ...       ...       ...       ...       ...       ...   \n",
            "277860  169142.0 -1.927883  1.125653 -4.518331  1.749293 -1.566487 -2.010494   \n",
            "278140  169347.0  1.378559  1.289381 -5.004247  1.411850  0.442581 -1.326536   \n",
            "278146  169351.0 -0.676143  1.126366 -2.213700  0.468308 -1.120541 -0.003346   \n",
            "279141  169966.0 -3.113832  0.585864 -5.399730  1.817092 -0.840618 -2.943548   \n",
            "279671  170348.0  1.991976  0.158476 -2.583441  0.408670  1.151147 -0.096695   \n",
            "\n",
            "              V7        V8        V9  ...       V20       V21       V22  \\\n",
            "133374 -0.704634  0.276215  0.734895  ... -0.159153 -0.016527  0.080907   \n",
            "62611  -0.039256 -0.165730  0.335693  ... -0.016178 -0.302509 -1.028982   \n",
            "165776  0.359992  0.328679  0.217889  ... -0.378991  0.149143  0.843341   \n",
            "200752  0.565528  0.547143  5.776678  ...  4.025370 -1.343823 -1.237345   \n",
            "12104  -0.339008  0.198427  0.857986  ... -0.252659 -0.137099  0.010949   \n",
            "...          ...       ...       ...  ...       ...       ...       ...   \n",
            "277860 -0.882850  0.697211 -2.064945  ...  1.252967  0.778584 -0.319189   \n",
            "278140 -1.413170  0.248525 -1.127396  ...  0.226138  0.370612  0.028234   \n",
            "278146 -2.234739  1.210158 -0.652250  ...  0.247968  0.751826  0.834108   \n",
            "279141 -2.208002  1.058733 -1.632333  ...  0.306271  0.583276 -0.269209   \n",
            "279671  0.223050 -0.068384  0.577829  ... -0.017652 -0.164350 -0.295135   \n",
            "\n",
            "             V23       V24       V25       V26       V27       V28  Amount  \n",
            "133374 -0.011962  0.321360  0.360801 -0.424649  0.063509  0.027303   12.99  \n",
            "62611   0.167235  0.391354 -0.000178  0.471085 -0.071366  0.021714   50.00  \n",
            "165776  0.117144  0.271799  0.044552  0.147777 -0.143533  0.132236    7.53  \n",
            "200752  0.426095  0.482281  1.075657  0.093622  2.196404  0.867383    8.94  \n",
            "12104  -0.027548  0.181053  0.459154  0.038620 -0.008587  0.003019   11.37  \n",
            "...          ...       ...       ...       ...       ...       ...     ...  \n",
            "277860  0.639419 -0.294885  0.537503  0.788395  0.292680  0.147968  390.00  \n",
            "278140 -0.145640 -0.081049  0.521875  0.739467  0.389152  0.186637    0.76  \n",
            "278146  0.190944  0.032070 -0.739695  0.471111  0.385107  0.194361   77.89  \n",
            "279141 -0.456108 -0.183659 -0.328168  0.606116  0.884876 -0.253700  245.00  \n",
            "279671 -0.072173 -0.450261  0.313267 -0.289617  0.002988 -0.015309   42.53  \n",
            "\n",
            "[983 rows x 30 columns]\n"
          ]
        }
      ]
    },
    {
      "cell_type": "code",
      "source": [
        "print(y)"
      ],
      "metadata": {
        "colab": {
          "base_uri": "https://localhost:8080/"
        },
        "id": "-alo65Nw_xrZ",
        "outputId": "3b6556f9-b930-494f-8008-72ecb7daea5d"
      },
      "execution_count": null,
      "outputs": [
        {
          "output_type": "stream",
          "name": "stdout",
          "text": [
            "133374    0.0\n",
            "62611     0.0\n",
            "165776    0.0\n",
            "200752    0.0\n",
            "12104     0.0\n",
            "         ... \n",
            "277860    1.0\n",
            "278140    1.0\n",
            "278146    1.0\n",
            "279141    1.0\n",
            "279671    1.0\n",
            "Name: Class, Length: 983, dtype: float64\n"
          ]
        }
      ]
    },
    {
      "cell_type": "code",
      "source": [
        "x_train, x_test, y_train, y_test = train_test_split(x, y, test_size=0.2, stratify=y, random_state=2)\n",
        "print(x.shape, x_train.shape, x_test.shape)"
      ],
      "metadata": {
        "colab": {
          "base_uri": "https://localhost:8080/"
        },
        "id": "b2CHN4zt_3l0",
        "outputId": "7bee47f1-194c-45a5-b5a9-43ef13d24ee0"
      },
      "execution_count": null,
      "outputs": [
        {
          "output_type": "stream",
          "name": "stdout",
          "text": [
            "(983, 30) (786, 30) (197, 30)\n"
          ]
        }
      ]
    },
    {
      "cell_type": "code",
      "source": [
        "model = LogisticRegression(C=1.0, class_weight=None, dual=False, fit_intercept=True,\n",
        "                   intercept_scaling=1, l1_ratio=None, max_iter=100,\n",
        "                   multi_class='auto', n_jobs=None, penalty='l2',\n",
        "                   random_state=None, solver='lbfgs', tol=0.0001, verbose=0,\n",
        "                   warm_start=False)\n"
      ],
      "metadata": {
        "id": "IOJKH23eAKk0"
      },
      "execution_count": null,
      "outputs": []
    },
    {
      "cell_type": "code",
      "source": [
        "model.fit(x_train, y_train)"
      ],
      "metadata": {
        "id": "wsh2ggETAXie"
      },
      "execution_count": null,
      "outputs": []
    },
    {
      "cell_type": "code",
      "source": [
        "x_train_prediction = model.predict(x_train)\n",
        "training_data_accuracy = accuracy_score(x_train_prediction, y_train)"
      ],
      "metadata": {
        "id": "UWDsHXXUAnJS"
      },
      "execution_count": null,
      "outputs": []
    },
    {
      "cell_type": "code",
      "source": [
        "print('Accuracy on Training data : ', training_data_accuracy)"
      ],
      "metadata": {
        "colab": {
          "base_uri": "https://localhost:8080/"
        },
        "id": "z4sCDiuFAsEQ",
        "outputId": "68364bb3-87d8-4813-cfb3-c97ad18b7258"
      },
      "execution_count": null,
      "outputs": [
        {
          "output_type": "stream",
          "name": "stdout",
          "text": [
            "Accuracy on Training data :  0.9402035623409669\n"
          ]
        }
      ]
    },
    {
      "cell_type": "code",
      "source": [
        "from sklearn.metrics import precision_score\n",
        "from sklearn.metrics import recall_score\n",
        "from sklearn.metrics import f1_score\n",
        "x_test_prediction = model.predict(x_test)\n",
        "accuracy1 = accuracy_score(x_test_prediction, y_test)\n",
        "precision1=precision_score(x_test_prediction, y_test)\n",
        "recall1=recall_score(x_test_prediction, y_test)\n",
        "fscore1=f1_score(x_test_prediction, y_test)\n",
        "print('Accuracy score:', accuracy1)\n",
        "print('\\n Precision :\\n',precision1 )\n",
        "print(\"\\n Recall :\\n\", recall1)\n",
        "print(\"\\n F1 Skor :\\n\", fscore1)"
      ],
      "metadata": {
        "colab": {
          "base_uri": "https://localhost:8080/"
        },
        "id": "pRotU-ulAvex",
        "outputId": "bf7f8d35-5d7d-481a-c6a4-b90495e22f85"
      },
      "execution_count": null,
      "outputs": [
        {
          "output_type": "stream",
          "name": "stdout",
          "text": [
            "Accuracy score: 0.9441624365482234\n",
            "\n",
            " Precision :\n",
            " 0.9183673469387755\n",
            "\n",
            " Recall :\n",
            " 0.967741935483871\n",
            "\n",
            " F1 Skor :\n",
            " 0.9424083769633509\n"
          ]
        }
      ]
    },
    {
      "cell_type": "code",
      "source": [
        "from sklearn.tree import DecisionTreeClassifier\n",
        "classifier=DecisionTreeClassifier(max_depth=4)\n",
        "classifier.fit(x_train, y_train)\n",
        "predicted=classifier.predict(x_test)\n",
        "print(\"\\n Predicted value:\\n\",predicted)"
      ],
      "metadata": {
        "colab": {
          "base_uri": "https://localhost:8080/"
        },
        "id": "tC59_NcXhoQG",
        "outputId": "b8592c44-e91b-4cc6-a9f1-17a9443bff74"
      },
      "execution_count": null,
      "outputs": [
        {
          "output_type": "stream",
          "name": "stdout",
          "text": [
            "\n",
            " Predicted value:\n",
            " [1. 0. 0. 0. 1. 0. 1. 0. 0. 1. 0. 1. 1. 0. 0. 1. 1. 1. 0. 0. 0. 0. 0. 1.\n",
            " 0. 1. 0. 0. 1. 1. 1. 1. 0. 1. 1. 0. 0. 1. 0. 0. 1. 0. 0. 1. 1. 1. 1. 1.\n",
            " 0. 0. 0. 0. 0. 1. 0. 1. 0. 1. 0. 0. 1. 1. 1. 1. 1. 0. 1. 0. 0. 1. 0. 0.\n",
            " 0. 0. 1. 1. 0. 1. 1. 1. 0. 1. 1. 1. 0. 0. 0. 0. 0. 0. 0. 1. 1. 1. 1. 1.\n",
            " 1. 1. 0. 1. 0. 1. 1. 0. 1. 0. 0. 0. 0. 1. 1. 0. 0. 0. 0. 1. 1. 0. 0. 0.\n",
            " 0. 0. 0. 0. 1. 1. 0. 1. 0. 1. 0. 0. 0. 1. 0. 1. 1. 0. 0. 1. 1. 0. 1. 1.\n",
            " 0. 0. 1. 0. 1. 1. 0. 0. 1. 1. 0. 0. 1. 1. 0. 0. 0. 1. 0. 1. 1. 0. 0. 1.\n",
            " 0. 1. 1. 0. 1. 1. 0. 1. 0. 0. 0. 0. 0. 1. 0. 0. 1. 0. 0. 1. 0. 0. 1. 1.\n",
            " 1. 1. 1. 1. 0.]\n"
          ]
        }
      ]
    },
    {
      "cell_type": "code",
      "source": [
        "from sklearn import metrics\n",
        "DecisionTree= metrics.accuracy_score(y_test, predicted) * 100\n",
        "print(\"\\n The Accuracy Score : \", DecisionTree)"
      ],
      "metadata": {
        "colab": {
          "base_uri": "https://localhost:8080/"
        },
        "id": "W-jYfjQ_h4-m",
        "outputId": "bbecddb2-f5a3-46b9-db41-e24c7916b6ba"
      },
      "execution_count": null,
      "outputs": [
        {
          "output_type": "stream",
          "name": "stdout",
          "text": [
            "\n",
            " The Accuracy Score :  92.38578680203045\n"
          ]
        }
      ]
    },
    {
      "cell_type": "code",
      "source": [],
      "metadata": {
        "id": "JACukql8iCnP"
      },
      "execution_count": null,
      "outputs": []
    },
    {
      "cell_type": "code",
      "source": [
        "precision=precision_score(y_test, predicted, pos_label=1)*100\n",
        "print('\\n Precision :\\n',precision )"
      ],
      "metadata": {
        "colab": {
          "base_uri": "https://localhost:8080/"
        },
        "id": "ptlXyZrDiSLm",
        "outputId": "1cb55fed-7ed6-4115-abe8-3c7b4dab9b40"
      },
      "execution_count": null,
      "outputs": [
        {
          "output_type": "stream",
          "name": "stdout",
          "text": [
            "\n",
            " Precision :\n",
            " 94.6236559139785\n"
          ]
        }
      ]
    },
    {
      "cell_type": "code",
      "source": [
        "recall=recall_score(y_test, predicted, pos_label=1)*100\n",
        "print(\"\\n Recall :\\n\", recall)"
      ],
      "metadata": {
        "colab": {
          "base_uri": "https://localhost:8080/"
        },
        "id": "odzP2hp6id9i",
        "outputId": "059e9d5f-b0a3-4a7c-c87e-4a253e3c722f"
      },
      "execution_count": null,
      "outputs": [
        {
          "output_type": "stream",
          "name": "stdout",
          "text": [
            "\n",
            " Recall :\n",
            " 89.79591836734694\n"
          ]
        }
      ]
    },
    {
      "cell_type": "code",
      "source": [
        "fscore=f1_score(y_test, predicted, pos_label=1)*100\n",
        "print(\"\\n F1 Skor :\\n\", fscore)"
      ],
      "metadata": {
        "colab": {
          "base_uri": "https://localhost:8080/"
        },
        "id": "-JcQa4vbikse",
        "outputId": "4f1d1b19-58ae-4a4f-eb5f-433a6005f107"
      },
      "execution_count": null,
      "outputs": [
        {
          "output_type": "stream",
          "name": "stdout",
          "text": [
            "\n",
            " F1 Skor :\n",
            " 92.14659685863874\n"
          ]
        }
      ]
    },
    {
      "cell_type": "code",
      "source": [
        "from sklearn.metrics import roc_curve, roc_auc_score\n",
        "clf_tree = DecisionTreeClassifier();\n",
        "clf_reg = LogisticRegression();\n",
        "clf_tree.fit(x_train, y_train);\n",
        "clf_reg.fit(x_train, y_train);"
      ],
      "metadata": {
        "id": "tmMxzijVkVyu",
        "colab": {
          "base_uri": "https://localhost:8080/"
        },
        "outputId": "1406bf67-d435-4a84-ecbd-693688701e13"
      },
      "execution_count": null,
      "outputs": [
        {
          "output_type": "stream",
          "name": "stderr",
          "text": [
            "/usr/local/lib/python3.8/dist-packages/sklearn/linear_model/_logistic.py:814: ConvergenceWarning: lbfgs failed to converge (status=1):\n",
            "STOP: TOTAL NO. of ITERATIONS REACHED LIMIT.\n",
            "\n",
            "Increase the number of iterations (max_iter) or scale the data as shown in:\n",
            "    https://scikit-learn.org/stable/modules/preprocessing.html\n",
            "Please also refer to the documentation for alternative solver options:\n",
            "    https://scikit-learn.org/stable/modules/linear_model.html#logistic-regression\n",
            "  n_iter_i = _check_optimize_result(\n"
          ]
        }
      ]
    },
    {
      "cell_type": "code",
      "source": [
        "  y_score1 = clf_tree.predict_proba(x_test)[:,1]\n",
        "  y_score2 = clf_reg.predict_proba(x_test)[:,1]\n",
        "  false_positive_rate1, true_positive_rate1, threshold1 = roc_curve(y_test, y_score1)\n",
        "  false_positive_rate2, true_positive_rate2, threshold2 = roc_curve(y_test, y_score2)\n",
        "  print('roc_auc_score for DecisionTree: ', roc_auc_score(y_test, y_score1))\n",
        "  print('roc_auc_score for Logistic Regression: ', roc_auc_score(y_test, y_score2))"
      ],
      "metadata": {
        "colab": {
          "base_uri": "https://localhost:8080/"
        },
        "id": "cPtKwuyFkoRa",
        "outputId": "fccc943e-2d13-465e-bdd7-49aa5073c1f2"
      },
      "execution_count": null,
      "outputs": [
        {
          "output_type": "stream",
          "name": "stdout",
          "text": [
            "roc_auc_score for DecisionTree:  0.9086786229643372\n",
            "roc_auc_score for Logistic Regression:  0.9821686250257678\n"
          ]
        }
      ]
    },
    {
      "cell_type": "code",
      "source": [
        "import matplotlib.pyplot as plt\n",
        "plt.subplots(1, figsize=(10,10))\n",
        "plt.title('Receiver Operating Characteristic - DecisionTree')\n",
        "plt.plot(false_positive_rate1, true_positive_rate1)\n",
        "plt.plot([0, 1], ls=\"--\")\n",
        "plt.plot([0, 0], [1, 0] , c=\".7\"), plt.plot([1, 1] , c=\".7\")\n",
        "plt.ylabel('True Positive Rate')\n",
        "plt.xlabel('False Positive Rate')\n",
        "plt.show()"
      ],
      "metadata": {
        "id": "81MJK1bWk8cg",
        "colab": {
          "base_uri": "https://localhost:8080/",
          "height": 621
        },
        "outputId": "1f7ca561-437a-456f-ac67-60dc60e69181"
      },
      "execution_count": null,
      "outputs": [
        {
          "output_type": "display_data",
          "data": {
            "text/plain": [
              "<Figure size 720x720 with 1 Axes>"
            ],
            "image/png": "[encoded data removed]"
          },
          "metadata": {
            "needs_background": "light"
          }
        }
      ]
    },
    {
      "cell_type": "code",
      "source": [
        "plt.subplots(1, figsize=(10,10))\n",
        "plt.title('Receiver Operating Characteristic - Logistic regression')\n",
        "plt.plot(false_positive_rate2, true_positive_rate2)\n",
        "plt.plot([0, 1], ls=\"--\")\n",
        "plt.plot([0, 0], [1, 0] , c=\".7\"), plt.plot([1, 1] , c=\".7\")\n",
        "plt.ylabel('True Positive Rate')\n",
        "plt.xlabel('False Positive Rate')\n",
        "plt.show()"
      ],
      "metadata": {
        "id": "PHLCgjhklj02",
        "colab": {
          "base_uri": "https://localhost:8080/",
          "height": 621
        },
        "outputId": "ec7b0284-e1ea-4977-c591-372d0d5d5c56"
      },
      "execution_count": null,
      "outputs": [
        {
          "output_type": "display_data",
          "data": {
            "text/plain": [
              "<Figure size 720x720 with 1 Axes>"
            ],
            "image/png": "[encoded data removed]"
          },
          "metadata": {
            "needs_background": "light"
          }
        }
      ]
    },
    {
      "cell_type": "code",
      "source": [
        "from sklearn.metrics import confusion_matrix\n",
        "print(\"Decision Tree Confusion Matrix: \", confusion_matrix(y_test, x_test_prediction))\n",
        "print(\"Logistic Regression Confusion Matrix: \", confusion_matrix(y_test, predicted))"
      ],
      "metadata": {
        "colab": {
          "base_uri": "https://localhost:8080/"
        },
        "id": "DeOj7NTjaCPO",
        "outputId": "99d8b8ba-3aa2-4def-edb7-ca26d570f553"
      },
      "execution_count": null,
      "outputs": [
        {
          "output_type": "stream",
          "name": "stdout",
          "text": [
            "Decision Tree Confusion Matrix:  [[96  3]\n",
            " [ 8 90]]\n",
            "Logistic Regression Confusion Matrix:  [[94  5]\n",
            " [10 88]]\n"
          ]
        }
      ]
    },
    {
      "cell_type": "code",
      "source": [
        "from sklearn.metrics import classification_report\n",
        "print(\"Decision Tree Classification Report: \", classification_report(y_test, x_test_prediction))\n",
        "print(\"Logistic Regression Classification Report: \", classification_report(y_test, predicted))"
      ],
      "metadata": {
        "colab": {
          "base_uri": "https://localhost:8080/"
        },
        "id": "0CGvX86TayvA",
        "outputId": "76d38c41-21ef-4ff3-f0cb-1900e514894b"
      },
      "execution_count": null,
      "outputs": [
        {
          "output_type": "stream",
          "name": "stdout",
          "text": [
            "Decision Tree Classification Report:                precision    recall  f1-score   support\n",
            "\n",
            "         0.0       0.92      0.97      0.95        99\n",
            "         1.0       0.97      0.92      0.94        98\n",
            "\n",
            "    accuracy                           0.94       197\n",
            "   macro avg       0.95      0.94      0.94       197\n",
            "weighted avg       0.95      0.94      0.94       197\n",
            "\n",
            "Logistic Regression Classification Report:                precision    recall  f1-score   support\n",
            "\n",
            "         0.0       0.90      0.95      0.93        99\n",
            "         1.0       0.95      0.90      0.92        98\n",
            "\n",
            "    accuracy                           0.92       197\n",
            "   macro avg       0.93      0.92      0.92       197\n",
            "weighted avg       0.92      0.92      0.92       197\n",
            "\n"
          ]
        }
      ]
    }
  ]
}